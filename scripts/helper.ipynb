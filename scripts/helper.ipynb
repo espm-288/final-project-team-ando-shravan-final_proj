{
 "cells": [
  {
   "cell_type": "code",
   "execution_count": 2,
   "id": "b7b0241a-23cd-4480-ba37-463f214f6fda",
   "metadata": {},
   "outputs": [],
   "source": [
    "import pystac_client\n",
    "import geopandas as gpd\n",
    "import matplotlib.pyplot as plt\n",
    "import pandas as pd\n",
    "import dask.dataframe as dd\n",
    "import planetary_computer"
   ]
  },
  {
   "cell_type": "markdown",
   "id": "51334eda-8916-4e55-bed3-e93648a9d3de",
   "metadata": {},
   "source": [
    "## Global Variables"
   ]
  },
  {
   "cell_type": "code",
   "execution_count": 32,
   "id": "54a1e499-0a43-4d78-bcf2-5b6c080a5bbc",
   "metadata": {},
   "outputs": [],
   "source": [
    "#Grid size from HFI ~ 1km at the equator\n",
    "grid_size = 0.00989273\n",
    "cr_coods_center = [9.859152, -83.996775]\n",
    "crs = 'epsg:4326'"
   ]
  },
  {
   "cell_type": "code",
   "execution_count": 4,
   "id": "2dd7b599-88c7-40dc-9489-5def8a4ab045",
   "metadata": {},
   "outputs": [],
   "source": [
    "import dask_gateway\n",
    "\n",
    "# cluster = None\n",
    "gateway = dask_gateway.Gateway()\n",
    "cluster_options = gateway.cluster_options()\n",
    "\n"
   ]
  },
  {
   "cell_type": "code",
   "execution_count": 5,
   "id": "3ae8dc5e-da84-412d-a039-572bb8c0549a",
   "metadata": {},
   "outputs": [],
   "source": [
    "\n",
    "def check_for_existing_clusters():\n",
    "    if len(gateway.list_clusters()) == 0:\n",
    "        return False   \n",
    "    return True\n",
    "\n",
    "#max is 227\n",
    "def setup_dask_cluster(max=227, mem=16):\n",
    "    cluster_options[\"worker_memory\"] = mem\n",
    "    \n",
    "    if check_for_existing_clusters():\n",
    "        print (\"Clusters already exist, latching onto the first one\")\n",
    "        \n",
    "        clusters = gateway.list_clusters()\n",
    "        cluster = gateway.connect(clusters[0].name)\n",
    "        \n",
    "        client = cluster.get_client()\n",
    "        \n",
    "    else :\n",
    "        cluster = gateway.new_cluster(cluster_options, shutdown_on_close=False)\n",
    "        client = cluster.get_client()\n",
    "        cluster.adapt(minimum=2, maximum=max)\n",
    "    \n",
    "    \n",
    "    print(client)\n",
    "    print(cluster.dashboard_link)\n",
    "\n",
    "    \n",
    "def shutdown_all_clusters():\n",
    "    \n",
    "    clusters = gateway.list_clusters()\n",
    "    if clusters is not None:\n",
    "        for c in clusters:\n",
    "            cluster = gateway.connect(c.name)\n",
    "            cluster.shutdown()\n",
    "            print (cluster)\n",
    "    \n",
    "# This function will be used to 'override' dask.conpute\n",
    "# check if dask clusters are alive, if so, latch onto it\n",
    "# otherwise spawn a new cluster and do .compute on df\n",
    "def compute(ddf):\n",
    "    setup_dask_cluster()\n",
    "    return ddf.compute()\n",
    "\n",
    "def dashboard():\n",
    "    return cluster.dashboard_link\n"
   ]
  },
  {
   "cell_type": "markdown",
   "id": "7d0bf136-d764-4300-910d-9f9fb9603ed6",
   "metadata": {},
   "source": [
    "### Can reduce the resolution to any arbitrary grid line\n",
    "\n",
    "This works on pandas or dask frames only"
   ]
  },
  {
   "cell_type": "code",
   "execution_count": 6,
   "id": "f55eba50-6999-4410-a2ba-134b923d47ce",
   "metadata": {},
   "outputs": [],
   "source": [
    "def reduce_resolution_any(ddf, columns, gsize=0.01):\n",
    "                                \n",
    "    # ddf[['decimallatitude','decimallongitude']] = ddf[['decimallatitude','decimallongitude']]\\\n",
    "    # .apply(lambda x: gsize * pd.Series.round(x/gsize, 0), meta={'decimallatitude': 'float64', 'decimallongitude': 'float64'},\\\n",
    "    #        axis=1)\n",
    "    ddf[columns] = ddf[columns].apply(lambda x: gsize * pd.Series.round(x/gsize, 0),axis=1)\n",
    "    return ddf\n"
   ]
  },
  {
   "cell_type": "markdown",
   "id": "61459373-6b61-4812-9e59-527fafdb7353",
   "metadata": {},
   "source": [
    "### Make a grid around every point in a geopandas frame\n",
    "\n",
    "Works on geopandas or dask_geopandas frames"
   ]
  },
  {
   "cell_type": "code",
   "execution_count": 7,
   "id": "7a924d6c-6777-4a95-9885-1c3efa266569",
   "metadata": {},
   "outputs": [],
   "source": [
    "import shapely\n",
    "import numpy as np\n",
    "\n",
    "def get_square_around_point(point_geom, gsize):\n",
    "    \n",
    "    delta_size = gsize / 2.0\n",
    "    point_coords = np.array(point_geom.coords[0])\n",
    "\n",
    "    c1 = point_coords + [-delta_size,-delta_size]\n",
    "    c2 = point_coords + [-delta_size,+delta_size]\n",
    "    c3 = point_coords + [+delta_size,+delta_size]\n",
    "    c4 = point_coords + [+delta_size,-delta_size]\n",
    "    \n",
    "    square_geom = shapely.geometry.Polygon([c1,c2,c3,c4])\n",
    "    \n",
    "    return square_geom\n",
    "\n",
    "def get_gdf_with_grids(gdf_with_points, gsize=0.01):\n",
    "    gdf_grid = gdf_with_points.copy()\n",
    "    gdf_grid['geometry'] = gdf_with_points.apply(lambda row: get_square_around_point(row['geometry'],gsize)\\\n",
    "                                                 ,axis=1)\n",
    "    return gdf_grid"
   ]
  },
  {
   "cell_type": "code",
   "execution_count": 8,
   "id": "4b3cb65b-8486-4355-949c-2350dfd09c40",
   "metadata": {},
   "outputs": [],
   "source": [
    "## High resolution vector boundaries for Costa Rica"
   ]
  },
  {
   "cell_type": "code",
   "execution_count": 9,
   "id": "c6ef7ca3-1f9c-4846-a863-14397c229d5c",
   "metadata": {},
   "outputs": [
    {
     "data": {
      "text/html": [
       "<div>\n",
       "<style scoped>\n",
       "    .dataframe tbody tr th:only-of-type {\n",
       "        vertical-align: middle;\n",
       "    }\n",
       "\n",
       "    .dataframe tbody tr th {\n",
       "        vertical-align: top;\n",
       "    }\n",
       "\n",
       "    .dataframe thead th {\n",
       "        text-align: right;\n",
       "    }\n",
       "</style>\n",
       "<table border=\"1\" class=\"dataframe\">\n",
       "  <thead>\n",
       "    <tr style=\"text-align: right;\">\n",
       "      <th></th>\n",
       "      <th>ADMIN</th>\n",
       "      <th>ISO_A3</th>\n",
       "      <th>ISO_A2</th>\n",
       "      <th>geometry</th>\n",
       "    </tr>\n",
       "  </thead>\n",
       "  <tbody>\n",
       "    <tr>\n",
       "      <th>53</th>\n",
       "      <td>Costa Rica</td>\n",
       "      <td>CRI</td>\n",
       "      <td>CR</td>\n",
       "      <td>MULTIPOLYGON (((-87.09903 5.51602, -87.11767 5...</td>\n",
       "    </tr>\n",
       "  </tbody>\n",
       "</table>\n",
       "</div>"
      ],
      "text/plain": [
       "         ADMIN ISO_A3 ISO_A2  \\\n",
       "53  Costa Rica    CRI     CR   \n",
       "\n",
       "                                             geometry  \n",
       "53  MULTIPOLYGON (((-87.09903 5.51602, -87.11767 5...  "
      ]
     },
     "execution_count": 9,
     "metadata": {},
     "output_type": "execute_result"
    }
   ],
   "source": [
    "countries = gpd.read_file(\"https://raw.githubusercontent.com/datasets/geo-countries/master/data/countries.geojson\")\n",
    "cr_vec_hires = countries[countries.ISO_A2 == 'CR']\n",
    "cr_vec_hires"
   ]
  },
  {
   "cell_type": "code",
   "execution_count": 24,
   "id": "8a488067-1911-490b-824c-f450b522f150",
   "metadata": {},
   "outputs": [
    {
     "name": "stderr",
     "output_type": "stream",
     "text": [
      "/tmp/ipykernel_357/2267075966.py:1: SettingWithCopyWarning: \n",
      "A value is trying to be set on a copy of a slice from a DataFrame\n",
      "\n",
      "See the caveats in the documentation: https://pandas.pydata.org/pandas-docs/stable/user_guide/indexing.html#returning-a-view-versus-a-copy\n",
      "  cr_vec_hires.loc['geometry'] = cr_vec_hires['geometry'].set_crs(\"EPSG:4326\")\n"
     ]
    },
    {
     "data": {
      "text/plain": [
       "<AxesSubplot:>"
      ]
     },
     "execution_count": 24,
     "metadata": {},
     "output_type": "execute_result"
    },
    {
     "data": {
      "image/png": "[encoded data removed]",
      "text/plain": [
       "<Figure size 432x288 with 1 Axes>"
      ]
     },
     "metadata": {
      "needs_background": "light"
     },
     "output_type": "display_data"
    }
   ],
   "source": [
    "cr_vec_hires.loc['geometry'] = cr_vec_hires['geometry'].set_crs(\"EPSG:4326\")"
   ]
  },
  {
   "cell_type": "code",
   "execution_count": 12,
   "id": "d9e0ff0b-7f57-4408-a5a5-0cf3382d5836",
   "metadata": {},
   "outputs": [],
   "source": [
    "cr_bounds = cr_vec_hires.geometry.bounds"
   ]
  },
  {
   "cell_type": "markdown",
   "id": "266d2ef1-3966-4384-913a-5609d189f44e",
   "metadata": {},
   "source": [
    "Add some buffer around the corners so pixels are not lost"
   ]
  },
  {
   "cell_type": "code",
   "execution_count": 29,
   "id": "c923148a-a25d-4f94-9f41-f29e237f0b26",
   "metadata": {},
   "outputs": [],
   "source": [
    "lon_min, lat_min = cr_bounds.iloc[0][0:2] - grid_size*2\n",
    "lon_max, lat_max = cr_bounds.iloc[0][2:4] + grid_size*2"
   ]
  },
  {
   "cell_type": "markdown",
   "id": "134aa6c7-c384-4b85-b983-39fe3f1285a8",
   "metadata": {},
   "source": [
    "## Generate an equally spaced grid set within the bounds of a given polygon"
   ]
  },
  {
   "cell_type": "code",
   "execution_count": null,
   "id": "2ffeedef-3cd6-4c56-a28a-1173cd169a40",
   "metadata": {},
   "outputs": [],
   "source": [
    "from shapely.geometry import Point\n",
    "\n",
    "def grid_point_generator(gpd_polygon,grid_size, c='epsg:4326'):   \n",
    "    south=gpd_polygon.total_bounds[1]\n",
    "    west=gpd_polygon.total_bounds[0]\n",
    "    north=gpd_polygon.total_bounds[3]\n",
    "    east=gpd_polygon.total_bounds[2]\n",
    "    x=west\n",
    "    summary=[]\n",
    "    while x <= east:\n",
    "        y=south\n",
    "        while y<= north:\n",
    "            summary.append([Point(x, y)])\n",
    "            y=y+grid_size[0]\n",
    "        x=x+grid_size[1]\n",
    "    summary_df=gpd.GeoDataFrame(summary, columns=['geometry'], crs=c)\n",
    "    return summary_df"
   ]
  }
 ],
 "metadata": {
  "kernelspec": {
   "display_name": "Python 3 (ipykernel)",
   "language": "python",
   "name": "python3"
  },
  "language_info": {
   "codemirror_mode": {
    "name": "ipython",
    "version": 3
   },
   "file_extension": ".py",
   "mimetype": "text/x-python",
   "name": "python",
   "nbconvert_exporter": "python",
   "pygments_lexer": "ipython3",
   "version": "3.8.12"
  }
 },
 "nbformat": 4,
 "nbformat_minor": 5
}
