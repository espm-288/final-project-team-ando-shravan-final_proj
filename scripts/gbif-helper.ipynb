{
 "cells": [
  {
   "cell_type": "code",
   "execution_count": 68,
   "id": "4557feda-da39-4370-a749-47e7248a0287",
   "metadata": {},
   "outputs": [],
   "source": [
    "## Load libraries\n",
    "import pystac_client\n",
    "import geopandas as gpd\n",
    "import matplotlib.pyplot as plt\n",
    "import pandas as pd\n",
    "import dask.dataframe as dd\n",
    "import planetary_computer"
   ]
  },
  {
   "cell_type": "code",
   "execution_count": 69,
   "id": "1cdca5cc-8141-4e3d-98a1-449c7eb1ea21",
   "metadata": {},
   "outputs": [],
   "source": [
    "import numpy as np\n",
    "\n",
    "def make_grid(gdf, height, cut=True):\n",
    "    \"\"\"\n",
    "    Return a grid, based on the shape of *gdf* and on a *height* value (in\n",
    "    units of *gdf*). If cut=False, the grid will not be intersected with *gdf*\n",
    "    (i.e it makes a grid on the bounding-box of *gdf*).\n",
    "    Parameters\n",
    "    ----------\n",
    "    gdf: GeoDataFrame\n",
    "        The collection of polygons to be covered by the grid.\n",
    "    height: Integer\n",
    "        The dimension (will be used as height and width) of the ceils to create,\n",
    "        in units of *gdf*.\n",
    "    cut: Boolean, default True\n",
    "        Cut the grid to fit the shape of *gdf* (ceil partially covering it will\n",
    "        be truncated). If False, the returned grid will fit the bounding box\n",
    "        of *gdf*.\n",
    "    Returns\n",
    "    -------\n",
    "    grid: GeoDataFrame\n",
    "        A collection of polygons.\n",
    "    \"\"\"\n",
    "    from math import ceil\n",
    "    from shapely.ops import unary_union\n",
    "    xmin, ymin = [i.min() for i in gdf.bounds.T.values[:2]]\n",
    "    xmax, ymax = [i.max() for i in gdf.bounds.T.values[2:]]\n",
    "    rows = int(ceil((ymax-ymin) / height))\n",
    "    cols = int(ceil((xmax-xmin) / height))\n",
    "\n",
    "    x_left_origin = xmin\n",
    "    x_right_origin = xmin + height\n",
    "    y_top_origin = ymax\n",
    "    y_bottom_origin = ymax - height\n",
    "\n",
    "    res_geoms = []\n",
    "    for countcols in range(cols):\n",
    "        y_top = y_top_origin\n",
    "        y_bottom = y_bottom_origin\n",
    "        for countrows in range(rows):\n",
    "            res_geoms.append((\n",
    "                (x_left_origin, y_top), (x_right_origin, y_top),\n",
    "                (x_right_origin, y_bottom), (x_left_origin, y_bottom)\n",
    "                ))\n",
    "            y_top = y_top - height\n",
    "            y_bottom = y_bottom - height\n",
    "        x_left_origin = x_left_origin + height\n",
    "        x_right_origin = x_right_origin + height\n",
    "    if cut:\n",
    "        if all(gdf.eval(\n",
    "            \"geometry.type =='Polygon' or geometry.type =='MultiPolygon'\")):\n",
    "            res = GeoDataFrame(\n",
    "                geometry=pd.Series(res_geoms).apply(lambda x: Polygon(x)),\n",
    "                crs=gdf.crs\n",
    "                ).intersection(unary_union(gdf.geometry))\n",
    "        else:\n",
    "            res = GeoDataFrame(\n",
    "                geometry=pd.Series(res_geoms).apply(lambda x: Polygon(x)),\n",
    "                crs=gdf.crs\n",
    "                ).intersection(unary_union(gdf.geometry).convex_hull)\n",
    "        res = res[res.geometry.type == 'Polygon']\n",
    "        res.index = [i for i in range(len(res))]\n",
    "        return GeoDataFrame(geometry=res)\n",
    "\n",
    "    else:\n",
    "        return GeoDataFrame(\n",
    "            index=[i for i in range(len(res_geoms))],\n",
    "            geometry=pd.Series(res_geoms).apply(lambda x: Polygon(x)),\n",
    "            crs=gdf.crs\n",
    "            )\n",
    "\n",
    "\n",
    "def gridify_data(gdf, height, col_name, cut=True, method=np.mean):\n",
    "    \"\"\"\n",
    "    Gridify a collection of point observations.\n",
    "    Parameters\n",
    "    ----------\n",
    "    gdf: GeoDataFrame\n",
    "        The collection of polygons to be covered by the grid.\n",
    "    height: Integer\n",
    "        The dimension (will be used as height and width) of the ceils to create,\n",
    "        in units of *gdf*.\n",
    "    col_name: String\n",
    "        The name of the column containing the value to use for the grid cells.\n",
    "    cut: Boolean, default True\n",
    "        Cut the grid to fit the shape of *gdf* (ceil partially covering it will\n",
    "        be truncated). If False, the returned grid fit the bounding box of gdf.\n",
    "    method: Numpy/Pandas function\n",
    "        The method to aggregate values of points for each cell.\n",
    "        (like numpy.max, numpy.mean, numpy.mean, numpy.std or numpy.sum)\n",
    "    Returns\n",
    "    -------\n",
    "    grid: GeoDataFrame\n",
    "        A collection of polygons.\n",
    "    Example\n",
    "    -------\n",
    "    >>> all(gdf.geometry.type == 'Point')  # The function only act on Points\n",
    "    True\n",
    "    >>> gdf.time.dtype  # And the value to aggreagate have to be numerical\n",
    "    dtype('int64')\n",
    "    >>> grid_data = gridify_data(gdf, 7500, 'time', method=np.min)\n",
    "    >>> plot_dataframe(grid_data, column='time')\n",
    "    <matplotlib.axes._subplots.AxesSubplot at 0x7f8336373a20>\n",
    "    ...\n",
    "    \"\"\"\n",
    "    if not all(gdf.geometry.type == 'Point'):\n",
    "        raise ValueError(\"Can only gridify scattered data (Point)\")\n",
    "    if not gdf[col_name].dtype.kind in {'i', 'f'}:\n",
    "        raise ValueError(\"Target column have to be a numerical field\")\n",
    "\n",
    "    grid = make_grid(gdf, height, cut)\n",
    "    grid[col_name] = -1\n",
    "    index = make_index([i.bounds for i in gdf.geometry])\n",
    "    for id_cell in range(len(grid)):\n",
    "        ids_pts = list(index.intersection(\n",
    "            grid.geometry[id_cell].bounds, objects='raw'))\n",
    "        if ids_pts:\n",
    "            res = method(gdf.iloc[ids_pts][col_name])\n",
    "            grid.loc[id_cell, col_name] = res\n",
    "    return grid\n"
   ]
  },
  {
   "cell_type": "code",
   "execution_count": 70,
   "id": "161621d9-a80a-44b6-bbe2-069195e46d62",
   "metadata": {},
   "outputs": [],
   "source": [
    "import dask_gateway\n",
    "\n",
    "# cluster = None\n",
    "gateway = dask_gateway.Gateway()\n",
    "cluster_options = gateway.cluster_options()\n",
    "\n"
   ]
  },
  {
   "cell_type": "code",
   "execution_count": 71,
   "id": "897670ed-5cc9-402e-b010-7e244cbc3a89",
   "metadata": {},
   "outputs": [],
   "source": [
    "\n",
    "def check_for_existing_clusters():\n",
    "    if len(gateway.list_clusters()) == 0:\n",
    "        return False\n",
    "    \n",
    "    return True\n",
    "\n",
    "#max is 227\n",
    "def setup_dask_cluster(max=227, mem=16):\n",
    "    \n",
    "    cluster_options[\"worker_memory\"] = mem\n",
    "    \n",
    "    if check_for_existing_clusters():\n",
    "        print (\"Clusters already exist, latching onto the first one\")\n",
    "        \n",
    "        clusters = gateway.list_clusters()\n",
    "        cluster = gateway.connect(clusters[0].name)\n",
    "        \n",
    "        client = cluster.get_client()\n",
    "        \n",
    "    else :\n",
    "        cluster = gateway.new_cluster(cluster_options, shutdown_on_close=False)\n",
    "        client = cluster.get_client()\n",
    "        cluster.adapt(minimum=2, maximum=max)\n",
    "    \n",
    "    \n",
    "    print(client)\n",
    "    print(cluster.dashboard_link)\n",
    "\n",
    "    \n",
    "def shutdown_all_clusters():\n",
    "    \n",
    "    clusters = gateway.list_clusters()\n",
    "    if clusters is not None:\n",
    "        for c in clusters:\n",
    "            cluster = gateway.connect(c.name)\n",
    "            cluster.shutdown()\n",
    "            print (cluster)\n",
    "    "
   ]
  },
  {
   "cell_type": "code",
   "execution_count": 72,
   "id": "44abb5f0-9de4-4e0c-a403-04d66ca1cd8d",
   "metadata": {},
   "outputs": [
    {
     "data": {
      "text/plain": [
       "[ClusterReport<name=prod.c83901779ed94a39a659bd30c5a1ef44, status=RUNNING>]"
      ]
     },
     "execution_count": 72,
     "metadata": {},
     "output_type": "execute_result"
    }
   ],
   "source": [
    "gateway.list_clusters()"
   ]
  },
  {
   "cell_type": "code",
   "execution_count": 73,
   "id": "a9dd80c9-6ec0-42ab-a4bc-f720c8b47ab7",
   "metadata": {},
   "outputs": [
    {
     "data": {
      "text/plain": [
       "True"
      ]
     },
     "execution_count": 73,
     "metadata": {},
     "output_type": "execute_result"
    }
   ],
   "source": [
    "check_for_existing_clusters()"
   ]
  },
  {
   "cell_type": "code",
   "execution_count": 105,
   "id": "1e4e221e-4a0f-4e6c-94be-041ce49cebc3",
   "metadata": {},
   "outputs": [
    {
     "name": "stdout",
     "output_type": "stream",
     "text": [
      "<Client: 'tls://10.244.82.87:8786' processes=0 threads=0, memory=0 B>\n",
      "https://pccompute.westeurope.cloudapp.azure.com/compute/services/dask-gateway/clusters/prod.e94dc7c522944ad3969fb134f39862e3/status\n"
     ]
    }
   ],
   "source": [
    "# shutdown_all_clusters()\n",
    "# cluster\n",
    "\n",
    "setup_dask_cluster()"
   ]
  },
  {
   "cell_type": "code",
   "execution_count": 75,
   "id": "1460fdf0-2b18-45ae-a8c8-32fb52f9060c",
   "metadata": {},
   "outputs": [
    {
     "data": {
      "text/plain": [
       "<Item id=gbif-2022-03-01>"
      ]
     },
     "execution_count": 75,
     "metadata": {},
     "output_type": "execute_result"
    }
   ],
   "source": [
    "catalog = pystac_client.Client.open(\n",
    "    \"https://planetarycomputer.microsoft.com/api/stac/v1\",\n",
    ")\n",
    "search = catalog.search(collections=[\"gbif\"])\n",
    "items = search.get_all_items()\n",
    "items = {x.id: x for x in items}\n",
    "item = list(items.values())[0]\n",
    "item"
   ]
  },
  {
   "cell_type": "code",
   "execution_count": 76,
   "id": "33d5cbd1-03f1-4e67-8a04-9c7b333535e3",
   "metadata": {},
   "outputs": [],
   "source": [
    "keep_cols= ['gbifid', 'datasetkey', 'occurrenceid', 'kingdom', 'phylum', 'class',\\\n",
    "       'order', 'family', 'genus', 'species','countrycode', 'locality',\\\n",
    "       'stateprovince', 'individualcount','decimallatitude', 'decimallongitude',\\\n",
    "       'coordinateuncertaintyinmeters', 'coordinateprecision', 'elevation',\\\n",
    "       'elevationaccuracy', 'depth', 'depthaccuracy', 'eventdate', 'day',\n",
    "       'month', 'year', 'taxonkey', 'basisofrecord', 'issue', 'occurrencestatus']\n"
   ]
  },
  {
   "cell_type": "code",
   "execution_count": 77,
   "id": "6832d2eb-1cc6-491c-86e7-4200b3972504",
   "metadata": {},
   "outputs": [],
   "source": [
    "min_cols = ['species','genus','countrycode','decimallatitude', 'decimallongitude','basisofrecord', 'issue', 'occurrencestatus']"
   ]
  },
  {
   "cell_type": "markdown",
   "id": "032b94c8-3c59-47e8-9349-36c0deba6b9d",
   "metadata": {},
   "source": [
    "Load a dask frame with the pointer to the GBIF data"
   ]
  },
  {
   "cell_type": "code",
   "execution_count": 78,
   "id": "49b6b572-b5b4-400d-8ec5-fb8fbbd85a98",
   "metadata": {},
   "outputs": [
    {
     "data": {
      "text/plain": [
       "1105"
      ]
     },
     "execution_count": 78,
     "metadata": {},
     "output_type": "execute_result"
    }
   ],
   "source": [
    "signed_asset = planetary_computer.sign(item).assets[\"data\"]\n",
    "\n",
    "ddf = dd.read_parquet(\n",
    "    signed_asset.href,\n",
    "    columns = min_cols,\n",
    "    storage_options=signed_asset.extra_fields[\"table:storage_options\"],\n",
    "    dataset={\"require_extension\": None},\n",
    ")\n",
    "ddf.npartitions"
   ]
  },
  {
   "cell_type": "code",
   "execution_count": 79,
   "id": "06e57ee9-2c66-4a0f-b17a-7e3e48b0c1c5",
   "metadata": {},
   "outputs": [
    {
     "data": {
      "text/html": [
       "<div>\n",
       "<style scoped>\n",
       "    .dataframe tbody tr th:only-of-type {\n",
       "        vertical-align: middle;\n",
       "    }\n",
       "\n",
       "    .dataframe tbody tr th {\n",
       "        vertical-align: top;\n",
       "    }\n",
       "\n",
       "    .dataframe thead th {\n",
       "        text-align: right;\n",
       "    }\n",
       "</style>\n",
       "<table border=\"1\" class=\"dataframe\">\n",
       "  <thead>\n",
       "    <tr style=\"text-align: right;\">\n",
       "      <th></th>\n",
       "      <th>species</th>\n",
       "      <th>genus</th>\n",
       "      <th>countrycode</th>\n",
       "      <th>decimallatitude</th>\n",
       "      <th>decimallongitude</th>\n",
       "      <th>basisofrecord</th>\n",
       "      <th>issue</th>\n",
       "      <th>occurrencestatus</th>\n",
       "    </tr>\n",
       "  </thead>\n",
       "  <tbody>\n",
       "    <tr>\n",
       "      <th>0</th>\n",
       "      <td>Cymbopogon bombycinus</td>\n",
       "      <td>Cymbopogon</td>\n",
       "      <td>AU</td>\n",
       "      <td>-23.8500</td>\n",
       "      <td>151.2500</td>\n",
       "      <td>PRESERVED_SPECIMEN</td>\n",
       "      <td>[INSTITUTION_MATCH_FUZZY, COLLECTION_MATCH_FUZZY]</td>\n",
       "      <td>PRESENT</td>\n",
       "    </tr>\n",
       "    <tr>\n",
       "      <th>1</th>\n",
       "      <td>Eremophila elderi</td>\n",
       "      <td>Eremophila</td>\n",
       "      <td>AU</td>\n",
       "      <td>-23.3167</td>\n",
       "      <td>130.3667</td>\n",
       "      <td>PRESERVED_SPECIMEN</td>\n",
       "      <td>[INSTITUTION_MATCH_FUZZY, COLLECTION_MATCH_FUZZY]</td>\n",
       "      <td>PRESENT</td>\n",
       "    </tr>\n",
       "    <tr>\n",
       "      <th>2</th>\n",
       "      <td>Carex chlorantha</td>\n",
       "      <td>Carex</td>\n",
       "      <td>AU</td>\n",
       "      <td>-37.7000</td>\n",
       "      <td>148.4500</td>\n",
       "      <td>PRESERVED_SPECIMEN</td>\n",
       "      <td>[INSTITUTION_MATCH_FUZZY, COLLECTION_MATCH_FUZZY]</td>\n",
       "      <td>PRESENT</td>\n",
       "    </tr>\n",
       "    <tr>\n",
       "      <th>3</th>\n",
       "      <td>Philonotis tenuis</td>\n",
       "      <td>Philonotis</td>\n",
       "      <td>AU</td>\n",
       "      <td>-35.8667</td>\n",
       "      <td>148.5000</td>\n",
       "      <td>PRESERVED_SPECIMEN</td>\n",
       "      <td>[INSTITUTION_MATCH_FUZZY, COLLECTION_MATCH_FUZZY]</td>\n",
       "      <td>PRESENT</td>\n",
       "    </tr>\n",
       "    <tr>\n",
       "      <th>4</th>\n",
       "      <td>Senecio pinnatifolius</td>\n",
       "      <td>Senecio</td>\n",
       "      <td>AU</td>\n",
       "      <td>-37.5667</td>\n",
       "      <td>149.7500</td>\n",
       "      <td>PRESERVED_SPECIMEN</td>\n",
       "      <td>[INSTITUTION_MATCH_FUZZY, COLLECTION_MATCH_FUZZY]</td>\n",
       "      <td>PRESENT</td>\n",
       "    </tr>\n",
       "  </tbody>\n",
       "</table>\n",
       "</div>"
      ],
      "text/plain": [
       "                 species       genus countrycode  decimallatitude  \\\n",
       "0  Cymbopogon bombycinus  Cymbopogon          AU         -23.8500   \n",
       "1      Eremophila elderi  Eremophila          AU         -23.3167   \n",
       "2       Carex chlorantha       Carex          AU         -37.7000   \n",
       "3      Philonotis tenuis  Philonotis          AU         -35.8667   \n",
       "4  Senecio pinnatifolius     Senecio          AU         -37.5667   \n",
       "\n",
       "   decimallongitude       basisofrecord  \\\n",
       "0          151.2500  PRESERVED_SPECIMEN   \n",
       "1          130.3667  PRESERVED_SPECIMEN   \n",
       "2          148.4500  PRESERVED_SPECIMEN   \n",
       "3          148.5000  PRESERVED_SPECIMEN   \n",
       "4          149.7500  PRESERVED_SPECIMEN   \n",
       "\n",
       "                                               issue occurrencestatus  \n",
       "0  [INSTITUTION_MATCH_FUZZY, COLLECTION_MATCH_FUZZY]          PRESENT  \n",
       "1  [INSTITUTION_MATCH_FUZZY, COLLECTION_MATCH_FUZZY]          PRESENT  \n",
       "2  [INSTITUTION_MATCH_FUZZY, COLLECTION_MATCH_FUZZY]          PRESENT  \n",
       "3  [INSTITUTION_MATCH_FUZZY, COLLECTION_MATCH_FUZZY]          PRESENT  \n",
       "4  [INSTITUTION_MATCH_FUZZY, COLLECTION_MATCH_FUZZY]          PRESENT  "
      ]
     },
     "execution_count": 79,
     "metadata": {},
     "output_type": "execute_result"
    }
   ],
   "source": [
    "ddf.head()"
   ]
  },
  {
   "cell_type": "code",
   "execution_count": 80,
   "id": "1b3b9e87-a4d3-4bdf-86c5-d94f9b58c292",
   "metadata": {},
   "outputs": [
    {
     "name": "stdout",
     "output_type": "stream",
     "text": [
      "Clusters already exist, latching onto the first one\n",
      "<Client: 'tls://10.244.82.86:8786' processes=2 threads=2, memory=32.00 GiB>\n",
      "https://pccompute.westeurope.cloudapp.azure.com/compute/services/dask-gateway/clusters/prod.c83901779ed94a39a659bd30c5a1ef44/status\n"
     ]
    }
   ],
   "source": [
    "setup_dask_cluster()"
   ]
  },
  {
   "cell_type": "markdown",
   "id": "a838cc7e-d179-47b2-8813-787f01e55b39",
   "metadata": {
    "tags": []
   },
   "source": [
    "## Filter GBIF data\n",
    "Possibbasisofrecordilters:\n",
    "- Countrycode (CR)\n",
    "- coordinateuncertaintyinmeters (< some number like 1000 or 10000m)\n",
    "- dateidentified (some minimum date)\n",
    "- Kingdom/Phylum/class/order/..\n",
    "- Remove fossils (basisofrecord != 'FOSSIL_SPECIMEN') [Basis of Record explainer](https://gbif.github.io/gbif-api/apidocs/org/gbif/api/vocabulary/BasisOfRecord.html)\n",
    "- occurrencestatus == 'PRESENT'\n",
    "\n",
    "Maybe:\n",
    "- taxonkey = 212 for all birds, etc\n"
   ]
  },
  {
   "cell_type": "markdown",
   "id": "ed0dacc8-c721-400f-958c-88d2555c7b1c",
   "metadata": {},
   "source": [
    "The Parquet file schema is described below.  Most field names correspond to [terms from the Darwin Core standard](https://dwc.tdwg.org/terms/), and have been interpreted by GBIF's systems to align taxonomy, location, dates etc.\n",
    "Additional information may be retrived using the [GBIF API](https://www.gbif.org/developer/summary).\n",
    "\n",
    "|              Field¹              |     Type      | Nullable | Description                   |\n",
    "|----------------------------------|---------------|----------|-------------------------------|\n",
    "| gbifid                           | BigInt        | N        | GBIF's identifier for the occurrence |\n",
    "| datasetkey                       | String (UUID) | N        | GBIF's UUID for the [dataset](https://www.gbif.org/developer/registry#datasets) containing this occurrence |\n",
    "| publishingorgkey                 | String (UUID) | N        | GBIF's UUID for the [organization](https://www.gbif.org/developer/registry#organizations) publishing this occurrence. |\n",
    "| occurrencestatus                 | String        | N        | See [dwc:occurrenceStatus](https://dwc.tdwg.org/terms/#occurrenceStatus). Either the value `PRESENT` or `ABSENT`.  Many users will wish to filter for `PRESENT` data. |\n",
    "| basisofrecord                    | String        | N        | See [dwc:basisOfRecord](https://dwc.tdwg.org/terms/#basisOfRecord).  One of `PRESERVED_SPECIMEN`, `FOSSIL_SPECIMEN`, `LIVING_SPECIMEN`, `OBSERVATION`, `HUMAN_OBSERVATION`, `MACHINE_OBSERVATION`, `MATERIAL_SAMPLE`, `LITERATURE`, `UNKNOWN`. |\n",
    "| kingdom                          | String        | Y        | See [dwc:kingdom](https://dwc.tdwg.org/terms/#kingdom).  This field has been aligned with the [GBIF backbone taxonomy](https://doi.org/10.15468/39omei). |\n",
    "| phylum                           | String        | Y        | See [dwc:phylum](https://dwc.tdwg.org/terms/#phylum).  This field has been aligned with the GBIF backbone taxonomy. |\n",
    "| class                            | String        | Y        | See [dwc:class](https://dwc.tdwg.org/terms/#class).  This field has been aligned with the GBIF backbone taxonomy. |\n",
    "| order                            | String        | Y        | See [dwc:order](https://dwc.tdwg.org/terms/#order).  This field has been aligned with the GBIF backbone taxonomy. |\n",
    "| family                           | String        | Y        | See [dwc:family](https://dwc.tdwg.org/terms/#family).  This field has been aligned with the GBIF backbone taxonomy. |\n",
    "| genus                            | String        | Y        | See [dwc:genus](https://dwc.tdwg.org/terms/#genus).  This field has been aligned with the GBIF backbone taxonomy. |\n",
    "| species                          | String        | Y        | See [dwc:species](https://dwc.tdwg.org/terms/#species).  This field has been aligned with the GBIF backbone taxonomy. |\n",
    "| infraspecificepithet             | String        | Y        | See [dwc:infraspecificEpithet](https://dwc.tdwg.org/terms/#infraspecificEpithet).  This field has been aligned with the GBIF backbone taxonomy. |\n",
    "| taxonrank                        | String        | Y        | See [dwc:taxonRank](https://dwc.tdwg.org/terms/#taxonRank).  This field has been aligned with the GBIF backbone taxonomy. |\n",
    "| scientificname                   | String        | Y        | See [dwc:scientificName](https://dwc.tdwg.org/terms/#scientificName).  This field has been aligned with the GBIF backbone taxonomy. |\n",
    "| verbatimscientificname           | String        | Y        | The scientific name as provided by the data publisher |\n",
    "| verbatimscientificnameauthorship | String        | Y        | The scientific name authorship provided by the data publisher. |\n",
    "| taxonkey                         | Integer       | Y        | The numeric identifier for the [taxon](https://www.gbif.org/developer/species#nameUsages) in GBIF's backbone taxonomy corresponding to `scientificname`. |\n",
    "| specieskey                       | Integer       | Y        | The numeric identifier for the taxon in GBIF's backbone taxonomy corresponding to `species`. |\n",
    "| typestatus                       | String        | Y        | See [dwc:typeStatus](https://dwc.tdwg.org/terms/#typeStatus). |\n",
    "| countrycode                      | String        | Y        | See [dwc:countryCode](https://dwc.tdwg.org/terms/#countryCode).  GBIF's interpretation has set this to an ISO 3166-2 code. |\n",
    "| locality                         | String        | Y        | See [dwc:locality](https://dwc.tdwg.org/terms/#locality). |\n",
    "| stateprovince                    | String        | Y        | See [dwc:stateProvince](https://dwc.tdwg.org/terms/#stateProvince). |\n",
    "| decimallatitude                  | Double        | Y²       | See [dwc:decimalLatitude](https://dwc.tdwg.org/terms/#decimalLatitude).  GBIF's interpretation has normalized this to a WGS84 coordinate. |\n",
    "| decimallongitude                 | Double        | Y²       | See [dwc:decimalLongitude](https://dwc.tdwg.org/terms/#decimalLongitude).  GBIF's interpretation has normalized this to a WGS84 coordinate. |\n",
    "| coordinateuncertaintyinmeters    | Double        | Y        | See [dwc:coordinateUncertaintyInMeters](https://dwc.tdwg.org/terms/#coordinateUncertaintyInMeters). |\n",
    "| coordinateprecision              | Double        | Y        | See [dwc:coordinatePrecision](https://dwc.tdwg.org/terms/#coordinatePrecision). |\n",
    "| elevation                        | Double        | Y        | See [dwc:elevation](https://dwc.tdwg.org/terms/#elevation).  If provided by the data publisher, GBIF's interpretation has normalized this value to metres. |\n",
    "| elevationaccuracy                | Double        | Y        | See [dwc:elevationAccuracy](https://dwc.tdwg.org/terms/#elevationAccuracy).  If provided by the data publisher, GBIF's interpretation has normalized this value to metres. |\n",
    "| depth                            | Double        | Y        | See [dwc:depth](https://dwc.tdwg.org/terms/#depth).  If provided by the data publisher, GBIF's interpretation has normalized this value to metres. |\n",
    "| depthaccuracy                    | Double        | Y        | See [dwc:depthAccuracy](https://dwc.tdwg.org/terms/#depthAccuracy).  If provided by the data publisher, GBIF's interpretation has normalized this value to metres. |\n",
    "| eventdate                        | String        | Y        | See [dwc:eventDate](https://dwc.tdwg.org/terms/#eventDate).  GBIF's interpretation has normalized this value to an ISO 8601 date with a local time. |\n",
    "| year                             | Integer       | Y        | See [dwc:year](https://dwc.tdwg.org/terms/#year). |\n",
    "| month                            | Integer       | Y        | See [dwc:month](https://dwc.tdwg.org/terms/#month). |\n",
    "| day                              | Integer       | Y        | See [dwc:day](https://dwc.tdwg.org/terms/#day). |\n",
    "| individualcount                  | Integer       | Y        | See [dwc:individualCount](https://dwc.tdwg.org/terms/#individualCount). |\n",
    "| establishmentmeans               | String        | Y        | See [dwc:establishmentMeans](https://dwc.tdwg.org/terms/#establishmentMeans). |\n",
    "| occurrenceid                     | String        | Y³       | See [dwc:occurrenceID](https://dwc.tdwg.org/terms/#occurrenceID). |\n",
    "| institutioncode                  | String        | Y³       | See [dwc:institutionCode](https://dwc.tdwg.org/terms/#institutionCode). |\n",
    "| collectioncode                   | String        | Y³       | See [dwc:collectionCode](https://dwc.tdwg.org/terms/#collectionCode). |\n",
    "| catalognumber                    | String        | Y³       | See [dwc:catalogNumber](https://dwc.tdwg.org/terms/#catalogNumber). |\n",
    "| recordnumber                     | String        | Y        | See [dwc:recordNumber](https://dwc.tdwg.org/terms/#recordNumber). |\n",
    "| recordedby                       | String        | Y        | See [dwc:recordedBy](https://dwc.tdwg.org/terms/#recordedBy). |\n",
    "| identifiedby                     | String        | Y        | See [dwc:identifiedBy](https://dwc.tdwg.org/terms/#identifiedBy). |\n",
    "| dateidentified                   | String        | Y        | See [dwc:dateIdentified](https://dwc.tdwg.org/terms/#dateIdentified). An ISO 8601 date. |\n",
    "| mediatype                        | String array  | N⁴       | See [dwc:mediaType](https://dwc.tdwg.org/terms/#mediaType).  May contain `StillImage`, `MovingImage` or `Sound` (from [enumeration](http://api.gbif.org/v1/enumeration/basic/MediaType), detailing whether the occurrence has this media available. |\n",
    "| issue                            | String array  | N⁴       | A list of [issues](https://gbif.github.io/gbif-api/apidocs/org/gbif/api/vocabulary/OccurrenceIssue.html) encountered by GBIF in processing this record. More details are available on these issues and flags in [this blog post](https://data-blog.gbif.org/post/issues-and-flags/).|\n",
    "| license                          | String        | N        | See [dwc:license](https://dwc.tdwg.org/terms/#license). Either [`CC0_1_0`](https://creativecommons.org/publicdomain/zero/1.0/) or [`CC_BY_4_0`](https://creativecommons.org/licenses/by/4.0/).  `CC_BY_NC_4_0` records are not present in this snapshot. |\n",
    "| rightsholder                     | String        | Y        | See [dwc:rightsHolder](https://dwc.tdwg.org/terms/#rightsHolder). |\n",
    "| lastinterpreted                  | String        | N        | The ISO 8601 date when the record was last processed by GBIF. Data are reprocessed for several reasons, including changes to the backbone taxonomy, so this date is not necessarily the date the occurrence record last changed. |\n",
    "\n",
    "¹ Field names are lower case, but in later snapshots this may change to camelCase, for consistency with Darwin Core and the GBIF API.\n",
    "\n",
    "² Occurrences without coordinates are excluded from this snapshot, although this may change in the future.\n",
    "\n",
    "³ Either `occurrenceID`, or `institutionCode` + `collectionCode` + `catalogNumber`, or both, will be present on every record.\n",
    "\n",
    "⁴ The array may be empty.\n"
   ]
  },
  {
   "cell_type": "code",
   "execution_count": 81,
   "id": "390c0d9a-9fbd-4b8b-b36c-d1cad17bcaff",
   "metadata": {},
   "outputs": [],
   "source": [
    "gbif_cr = ddf.loc[ddf.countrycode == 'CR']"
   ]
  },
  {
   "cell_type": "code",
   "execution_count": 82,
   "id": "7cbed2e1-cdd5-4360-93d0-f2e168039321",
   "metadata": {},
   "outputs": [],
   "source": [
    "gbif_cr = gbif_cr.loc[gbif_cr.basisofrecord != 'FOSSIL_SPECIMEN']\n",
    "gbif_cr = gbif_cr.loc[gbif_cr.occurrencestatus == 'PRESENT']\n"
   ]
  },
  {
   "cell_type": "code",
   "execution_count": 83,
   "id": "a598eaa9-5d2b-4122-989c-309b8df425b5",
   "metadata": {},
   "outputs": [
    {
     "data": {
      "text/plain": [
       "17346233"
      ]
     },
     "execution_count": 83,
     "metadata": {},
     "output_type": "execute_result"
    }
   ],
   "source": [
    "len(gbif_cr.index)"
   ]
  },
  {
   "cell_type": "markdown",
   "id": "3652c415-a51a-41b2-9e75-88ec500619ef",
   "metadata": {
    "tags": []
   },
   "source": [
    "### Drop Columns\n",
    "\n",
    "Consider keeping ['issue'](https://gbif.github.io/gbif-api/apidocs/org/gbif/api/vocabulary/OccurrenceIssue.html) for later filtering"
   ]
  },
  {
   "cell_type": "code",
   "execution_count": 84,
   "id": "f801552d-4663-41c0-b219-1ec0b717be14",
   "metadata": {},
   "outputs": [],
   "source": [
    "gbif_cr_min = gbif_cr.drop(['basisofrecord','occurrencestatus','issue'], axis=1)"
   ]
  },
  {
   "cell_type": "code",
   "execution_count": 85,
   "id": "b5a57fc5-9d7d-4746-ae5c-aadd36e09149",
   "metadata": {},
   "outputs": [
    {
     "data": {
      "text/plain": [
       "Index(['species', 'genus', 'countrycode', 'decimallatitude',\n",
       "       'decimallongitude'],\n",
       "      dtype='object')"
      ]
     },
     "execution_count": 85,
     "metadata": {},
     "output_type": "execute_result"
    }
   ],
   "source": [
    "gbif_cr_min.columns"
   ]
  },
  {
   "cell_type": "code",
   "execution_count": 86,
   "id": "0c5907ea-5a24-4cc5-8e7c-fe124fa437e5",
   "metadata": {},
   "outputs": [
    {
     "data": {
      "text/plain": [
       "Dask Series Structure:\n",
       "npartitions=1\n",
       "    int64\n",
       "      ...\n",
       "Name: species, dtype: int64\n",
       "Dask Name: series-groupby-nunique-agg, 14526 tasks"
      ]
     },
     "execution_count": 86,
     "metadata": {},
     "output_type": "execute_result"
    }
   ],
   "source": [
    "#sanity check\n",
    "df = gbif_cr_min.drop(['genus','decimallatitude','decimallongitude'], axis=1)\n",
    "species_per_country = df.groupby(\"countrycode\").species.nunique()\n",
    "species_per_country"
   ]
  },
  {
   "cell_type": "code",
   "execution_count": 87,
   "id": "b884f6ea-ecf7-4094-98f3-e0d3e338c302",
   "metadata": {},
   "outputs": [],
   "source": [
    "species_per_country_df = species_per_country.compute()"
   ]
  },
  {
   "cell_type": "code",
   "execution_count": 88,
   "id": "0b65ff61-76b1-4ca0-bd46-2c2b30513693",
   "metadata": {},
   "outputs": [
    {
     "data": {
      "text/plain": [
       "countrycode\n",
       "CR    45157\n",
       "Name: species, dtype: int64"
      ]
     },
     "execution_count": 88,
     "metadata": {},
     "output_type": "execute_result"
    }
   ],
   "source": [
    "species_per_country_df"
   ]
  },
  {
   "cell_type": "markdown",
   "id": "bc17f130-0a56-49cf-b441-4e51355a15d4",
   "metadata": {},
   "source": [
    "------------------------------------------------\n",
    "Convert dask df directly to dask-geopandas df\n",
    "\n",
    "! Didnt Work!\n"
   ]
  },
  {
   "cell_type": "code",
   "execution_count": 89,
   "id": "2b721fbd-80e9-485b-8ee7-bf62c0dc183c",
   "metadata": {},
   "outputs": [],
   "source": [
    "#gbif_cr_min"
   ]
  },
  {
   "cell_type": "code",
   "execution_count": 90,
   "id": "410f7ba2-ac8d-4d00-996c-a50ab06384aa",
   "metadata": {},
   "outputs": [],
   "source": [
    "# import dask_geopandas as gpdd\n",
    "#gbif_cr_min['geometry'] = gpd.points_from_xy(gbif_cr_min['decimallongitude'],gbif_cr_min['decimallatitude'])\n",
    "\n"
   ]
  },
  {
   "cell_type": "code",
   "execution_count": 91,
   "id": "b2e4939c-0aa8-49ce-8096-e354584e1ded",
   "metadata": {},
   "outputs": [
    {
     "data": {
      "text/html": [
       "<div><strong>Dask DataFrame Structure:</strong></div>\n",
       "<div>\n",
       "<style scoped>\n",
       "    .dataframe tbody tr th:only-of-type {\n",
       "        vertical-align: middle;\n",
       "    }\n",
       "\n",
       "    .dataframe tbody tr th {\n",
       "        vertical-align: top;\n",
       "    }\n",
       "\n",
       "    .dataframe thead th {\n",
       "        text-align: right;\n",
       "    }\n",
       "</style>\n",
       "<table border=\"1\" class=\"dataframe\">\n",
       "  <thead>\n",
       "    <tr style=\"text-align: right;\">\n",
       "      <th></th>\n",
       "      <th>species</th>\n",
       "      <th>genus</th>\n",
       "      <th>countrycode</th>\n",
       "      <th>decimallatitude</th>\n",
       "      <th>decimallongitude</th>\n",
       "    </tr>\n",
       "    <tr>\n",
       "      <th>npartitions=1105</th>\n",
       "      <th></th>\n",
       "      <th></th>\n",
       "      <th></th>\n",
       "      <th></th>\n",
       "      <th></th>\n",
       "    </tr>\n",
       "  </thead>\n",
       "  <tbody>\n",
       "    <tr>\n",
       "      <th></th>\n",
       "      <td>object</td>\n",
       "      <td>object</td>\n",
       "      <td>object</td>\n",
       "      <td>float64</td>\n",
       "      <td>float64</td>\n",
       "    </tr>\n",
       "    <tr>\n",
       "      <th></th>\n",
       "      <td>...</td>\n",
       "      <td>...</td>\n",
       "      <td>...</td>\n",
       "      <td>...</td>\n",
       "      <td>...</td>\n",
       "    </tr>\n",
       "    <tr>\n",
       "      <th>...</th>\n",
       "      <td>...</td>\n",
       "      <td>...</td>\n",
       "      <td>...</td>\n",
       "      <td>...</td>\n",
       "      <td>...</td>\n",
       "    </tr>\n",
       "    <tr>\n",
       "      <th></th>\n",
       "      <td>...</td>\n",
       "      <td>...</td>\n",
       "      <td>...</td>\n",
       "      <td>...</td>\n",
       "      <td>...</td>\n",
       "    </tr>\n",
       "    <tr>\n",
       "      <th></th>\n",
       "      <td>...</td>\n",
       "      <td>...</td>\n",
       "      <td>...</td>\n",
       "      <td>...</td>\n",
       "      <td>...</td>\n",
       "    </tr>\n",
       "  </tbody>\n",
       "</table>\n",
       "</div>\n",
       "<div>Dask Name: drop_by_shallow_copy, 12155 tasks</div>"
      ],
      "text/plain": [
       "Dask DataFrame Structure:\n",
       "                 species   genus countrycode decimallatitude decimallongitude\n",
       "npartitions=1105                                                             \n",
       "                  object  object      object         float64          float64\n",
       "                     ...     ...         ...             ...              ...\n",
       "...                  ...     ...         ...             ...              ...\n",
       "                     ...     ...         ...             ...              ...\n",
       "                     ...     ...         ...             ...              ...\n",
       "Dask Name: drop_by_shallow_copy, 12155 tasks"
      ]
     },
     "execution_count": 91,
     "metadata": {},
     "output_type": "execute_result"
    }
   ],
   "source": [
    "# setup_dask_cluster()\n",
    "gbif_cr_min"
   ]
  },
  {
   "cell_type": "markdown",
   "id": "486389df-aa53-4437-a48e-a8b565ead4bd",
   "metadata": {},
   "source": [
    "## Let's convert our gbif_cr to a geopandas frame\n",
    "\n",
    "CRS is the geolocation in the WGS84 format (EPSG 4326)"
   ]
  },
  {
   "cell_type": "code",
   "execution_count": 92,
   "id": "f22d8aa4-22b2-4e74-b8d0-9f2fc914a919",
   "metadata": {},
   "outputs": [
    {
     "data": {
      "text/html": [
       "<div>\n",
       "<style scoped>\n",
       "    .dataframe tbody tr th:only-of-type {\n",
       "        vertical-align: middle;\n",
       "    }\n",
       "\n",
       "    .dataframe tbody tr th {\n",
       "        vertical-align: top;\n",
       "    }\n",
       "\n",
       "    .dataframe thead th {\n",
       "        text-align: right;\n",
       "    }\n",
       "</style>\n",
       "<table border=\"1\" class=\"dataframe\">\n",
       "  <thead>\n",
       "    <tr style=\"text-align: right;\">\n",
       "      <th></th>\n",
       "      <th>species</th>\n",
       "      <th>genus</th>\n",
       "      <th>decimallatitude</th>\n",
       "      <th>decimallongitude</th>\n",
       "    </tr>\n",
       "  </thead>\n",
       "  <tbody>\n",
       "    <tr>\n",
       "      <th>288</th>\n",
       "      <td>None</td>\n",
       "      <td>Theobroma</td>\n",
       "      <td>10.027778</td>\n",
       "      <td>-84.609167</td>\n",
       "    </tr>\n",
       "    <tr>\n",
       "      <th>4173</th>\n",
       "      <td>None</td>\n",
       "      <td>Lobaria</td>\n",
       "      <td>8.916700</td>\n",
       "      <td>-83.083300</td>\n",
       "    </tr>\n",
       "    <tr>\n",
       "      <th>19531</th>\n",
       "      <td>None</td>\n",
       "      <td>Begonia</td>\n",
       "      <td>9.933333</td>\n",
       "      <td>-83.950000</td>\n",
       "    </tr>\n",
       "    <tr>\n",
       "      <th>24401</th>\n",
       "      <td>Chaenotheca ferruginea</td>\n",
       "      <td>Chaenotheca</td>\n",
       "      <td>9.950000</td>\n",
       "      <td>-83.850000</td>\n",
       "    </tr>\n",
       "    <tr>\n",
       "      <th>29074</th>\n",
       "      <td>None</td>\n",
       "      <td>Cladonia</td>\n",
       "      <td>9.683300</td>\n",
       "      <td>-83.916700</td>\n",
       "    </tr>\n",
       "    <tr>\n",
       "      <th>...</th>\n",
       "      <td>...</td>\n",
       "      <td>...</td>\n",
       "      <td>...</td>\n",
       "      <td>...</td>\n",
       "    </tr>\n",
       "    <tr>\n",
       "      <th>53286</th>\n",
       "      <td>Vibrissina robertwellsi</td>\n",
       "      <td>Vibrissina</td>\n",
       "      <td>11.030000</td>\n",
       "      <td>-85.527000</td>\n",
       "    </tr>\n",
       "    <tr>\n",
       "      <th>53287</th>\n",
       "      <td>Vibrissina robertwellsi</td>\n",
       "      <td>Vibrissina</td>\n",
       "      <td>10.837600</td>\n",
       "      <td>-85.618700</td>\n",
       "    </tr>\n",
       "    <tr>\n",
       "      <th>1049418</th>\n",
       "      <td>Litoleptis tico</td>\n",
       "      <td>Litoleptis</td>\n",
       "      <td>10.047000</td>\n",
       "      <td>-84.008000</td>\n",
       "    </tr>\n",
       "    <tr>\n",
       "      <th>1369938</th>\n",
       "      <td>Hydrophis platurus</td>\n",
       "      <td>Hydrophis</td>\n",
       "      <td>10.304015</td>\n",
       "      <td>-85.354851</td>\n",
       "    </tr>\n",
       "    <tr>\n",
       "      <th>1369945</th>\n",
       "      <td>Hydrophis platurus</td>\n",
       "      <td>Hydrophis</td>\n",
       "      <td>10.304015</td>\n",
       "      <td>-85.354851</td>\n",
       "    </tr>\n",
       "  </tbody>\n",
       "</table>\n",
       "<p>17346233 rows × 4 columns</p>\n",
       "</div>"
      ],
      "text/plain": [
       "                         species        genus  decimallatitude  \\\n",
       "288                         None    Theobroma        10.027778   \n",
       "4173                        None      Lobaria         8.916700   \n",
       "19531                       None      Begonia         9.933333   \n",
       "24401     Chaenotheca ferruginea  Chaenotheca         9.950000   \n",
       "29074                       None     Cladonia         9.683300   \n",
       "...                          ...          ...              ...   \n",
       "53286    Vibrissina robertwellsi   Vibrissina        11.030000   \n",
       "53287    Vibrissina robertwellsi   Vibrissina        10.837600   \n",
       "1049418          Litoleptis tico   Litoleptis        10.047000   \n",
       "1369938       Hydrophis platurus    Hydrophis        10.304015   \n",
       "1369945       Hydrophis platurus    Hydrophis        10.304015   \n",
       "\n",
       "         decimallongitude  \n",
       "288            -84.609167  \n",
       "4173           -83.083300  \n",
       "19531          -83.950000  \n",
       "24401          -83.850000  \n",
       "29074          -83.916700  \n",
       "...                   ...  \n",
       "53286          -85.527000  \n",
       "53287          -85.618700  \n",
       "1049418        -84.008000  \n",
       "1369938        -85.354851  \n",
       "1369945        -85.354851  \n",
       "\n",
       "[17346233 rows x 4 columns]"
      ]
     },
     "execution_count": 92,
     "metadata": {},
     "output_type": "execute_result"
    }
   ],
   "source": [
    "gbif_cr_min.drop(['countrycode'], axis=1).compute()\n",
    "# gbif_cr_df = gbif_cr_min.compute()\n",
    "# gbif_cr_min.columns\n"
   ]
  },
  {
   "cell_type": "code",
   "execution_count": 93,
   "id": "f35df1ee-22c6-44c7-bbc9-67891c328664",
   "metadata": {},
   "outputs": [],
   "source": [
    "#1. Import species data into a GeoDataFrame\n",
    "cr_gdf = gpd.GeoDataFrame(gbif_cr_min.drop(['countrycode'], axis=1).compute(), \n",
    "              geometry=gpd.points_from_xy(gbif_cr_min['decimallongitude'], \n",
    "                                          gbif_cr_min['decimallatitude']), crs = \"EPSG:4326\")"
   ]
  },
  {
   "cell_type": "code",
   "execution_count": 94,
   "id": "e87141ca-3982-4a53-82c8-75d64717b7d6",
   "metadata": {},
   "outputs": [
    {
     "data": {
      "text/html": [
       "<div>\n",
       "<style scoped>\n",
       "    .dataframe tbody tr th:only-of-type {\n",
       "        vertical-align: middle;\n",
       "    }\n",
       "\n",
       "    .dataframe tbody tr th {\n",
       "        vertical-align: top;\n",
       "    }\n",
       "\n",
       "    .dataframe thead th {\n",
       "        text-align: right;\n",
       "    }\n",
       "</style>\n",
       "<table border=\"1\" class=\"dataframe\">\n",
       "  <thead>\n",
       "    <tr style=\"text-align: right;\">\n",
       "      <th></th>\n",
       "      <th>index</th>\n",
       "      <th>species</th>\n",
       "      <th>genus</th>\n",
       "      <th>geometry</th>\n",
       "    </tr>\n",
       "  </thead>\n",
       "  <tbody>\n",
       "    <tr>\n",
       "      <th>0</th>\n",
       "      <td>288</td>\n",
       "      <td>None</td>\n",
       "      <td>Theobroma</td>\n",
       "      <td>POINT (-84.60917 10.02778)</td>\n",
       "    </tr>\n",
       "    <tr>\n",
       "      <th>1</th>\n",
       "      <td>4173</td>\n",
       "      <td>None</td>\n",
       "      <td>Lobaria</td>\n",
       "      <td>POINT (-83.08330 8.91670)</td>\n",
       "    </tr>\n",
       "    <tr>\n",
       "      <th>2</th>\n",
       "      <td>19531</td>\n",
       "      <td>None</td>\n",
       "      <td>Begonia</td>\n",
       "      <td>POINT (-83.95000 9.93333)</td>\n",
       "    </tr>\n",
       "    <tr>\n",
       "      <th>3</th>\n",
       "      <td>24401</td>\n",
       "      <td>Chaenotheca ferruginea</td>\n",
       "      <td>Chaenotheca</td>\n",
       "      <td>POINT (-83.85000 9.95000)</td>\n",
       "    </tr>\n",
       "    <tr>\n",
       "      <th>4</th>\n",
       "      <td>29074</td>\n",
       "      <td>None</td>\n",
       "      <td>Cladonia</td>\n",
       "      <td>POINT (-83.91670 9.68330)</td>\n",
       "    </tr>\n",
       "    <tr>\n",
       "      <th>...</th>\n",
       "      <td>...</td>\n",
       "      <td>...</td>\n",
       "      <td>...</td>\n",
       "      <td>...</td>\n",
       "    </tr>\n",
       "    <tr>\n",
       "      <th>17346228</th>\n",
       "      <td>53286</td>\n",
       "      <td>Vibrissina robertwellsi</td>\n",
       "      <td>Vibrissina</td>\n",
       "      <td>POINT (-85.52700 11.03000)</td>\n",
       "    </tr>\n",
       "    <tr>\n",
       "      <th>17346229</th>\n",
       "      <td>53287</td>\n",
       "      <td>Vibrissina robertwellsi</td>\n",
       "      <td>Vibrissina</td>\n",
       "      <td>POINT (-85.61870 10.83760)</td>\n",
       "    </tr>\n",
       "    <tr>\n",
       "      <th>17346230</th>\n",
       "      <td>1049418</td>\n",
       "      <td>Litoleptis tico</td>\n",
       "      <td>Litoleptis</td>\n",
       "      <td>POINT (-84.00800 10.04700)</td>\n",
       "    </tr>\n",
       "    <tr>\n",
       "      <th>17346231</th>\n",
       "      <td>1369938</td>\n",
       "      <td>Hydrophis platurus</td>\n",
       "      <td>Hydrophis</td>\n",
       "      <td>POINT (-85.35485 10.30401)</td>\n",
       "    </tr>\n",
       "    <tr>\n",
       "      <th>17346232</th>\n",
       "      <td>1369945</td>\n",
       "      <td>Hydrophis platurus</td>\n",
       "      <td>Hydrophis</td>\n",
       "      <td>POINT (-85.35485 10.30401)</td>\n",
       "    </tr>\n",
       "  </tbody>\n",
       "</table>\n",
       "<p>17346233 rows × 4 columns</p>\n",
       "</div>"
      ],
      "text/plain": [
       "            index                  species        genus  \\\n",
       "0             288                     None    Theobroma   \n",
       "1            4173                     None      Lobaria   \n",
       "2           19531                     None      Begonia   \n",
       "3           24401   Chaenotheca ferruginea  Chaenotheca   \n",
       "4           29074                     None     Cladonia   \n",
       "...           ...                      ...          ...   \n",
       "17346228    53286  Vibrissina robertwellsi   Vibrissina   \n",
       "17346229    53287  Vibrissina robertwellsi   Vibrissina   \n",
       "17346230  1049418          Litoleptis tico   Litoleptis   \n",
       "17346231  1369938       Hydrophis platurus    Hydrophis   \n",
       "17346232  1369945       Hydrophis platurus    Hydrophis   \n",
       "\n",
       "                            geometry  \n",
       "0         POINT (-84.60917 10.02778)  \n",
       "1          POINT (-83.08330 8.91670)  \n",
       "2          POINT (-83.95000 9.93333)  \n",
       "3          POINT (-83.85000 9.95000)  \n",
       "4          POINT (-83.91670 9.68330)  \n",
       "...                              ...  \n",
       "17346228  POINT (-85.52700 11.03000)  \n",
       "17346229  POINT (-85.61870 10.83760)  \n",
       "17346230  POINT (-84.00800 10.04700)  \n",
       "17346231  POINT (-85.35485 10.30401)  \n",
       "17346232  POINT (-85.35485 10.30401)  \n",
       "\n",
       "[17346233 rows x 4 columns]"
      ]
     },
     "execution_count": 94,
     "metadata": {},
     "output_type": "execute_result"
    }
   ],
   "source": [
    "cr_species = cr_gdf.drop(columns=['decimallatitude','decimallongitude']).reset_index()\n",
    "cr_species\n"
   ]
  },
  {
   "cell_type": "markdown",
   "id": "d2c78c57-a78a-45c6-a7a6-36b1deb79666",
   "metadata": {},
   "source": [
    "## Get the hires polygon for CR"
   ]
  },
  {
   "cell_type": "code",
   "execution_count": 95,
   "id": "01346d2e-abe5-44f6-96d3-1cc58680c6df",
   "metadata": {},
   "outputs": [
    {
     "data": {
      "text/html": [
       "<div>\n",
       "<style scoped>\n",
       "    .dataframe tbody tr th:only-of-type {\n",
       "        vertical-align: middle;\n",
       "    }\n",
       "\n",
       "    .dataframe tbody tr th {\n",
       "        vertical-align: top;\n",
       "    }\n",
       "\n",
       "    .dataframe thead th {\n",
       "        text-align: right;\n",
       "    }\n",
       "</style>\n",
       "<table border=\"1\" class=\"dataframe\">\n",
       "  <thead>\n",
       "    <tr style=\"text-align: right;\">\n",
       "      <th></th>\n",
       "      <th>ADMIN</th>\n",
       "      <th>ISO_A3</th>\n",
       "      <th>ISO_A2</th>\n",
       "      <th>geometry</th>\n",
       "    </tr>\n",
       "  </thead>\n",
       "  <tbody>\n",
       "    <tr>\n",
       "      <th>53</th>\n",
       "      <td>Costa Rica</td>\n",
       "      <td>CRI</td>\n",
       "      <td>CR</td>\n",
       "      <td>MULTIPOLYGON (((-87.09903 5.51602, -87.11767 5...</td>\n",
       "    </tr>\n",
       "  </tbody>\n",
       "</table>\n",
       "</div>"
      ],
      "text/plain": [
       "         ADMIN ISO_A3 ISO_A2  \\\n",
       "53  Costa Rica    CRI     CR   \n",
       "\n",
       "                                             geometry  \n",
       "53  MULTIPOLYGON (((-87.09903 5.51602, -87.11767 5...  "
      ]
     },
     "execution_count": 95,
     "metadata": {},
     "output_type": "execute_result"
    }
   ],
   "source": [
    "countries = gpd.read_file(\"https://raw.githubusercontent.com/datasets/geo-countries/master/data/countries.geojson\")\n",
    "cr_vec_hires = countries[countries.ISO_A2 == 'CR']\n",
    "cr_vec_hires"
   ]
  },
  {
   "cell_type": "code",
   "execution_count": 96,
   "id": "ba3956ce-54c0-4e2b-bed0-edbdb2f6830a",
   "metadata": {},
   "outputs": [
    {
     "name": "stderr",
     "output_type": "stream",
     "text": [
      "/srv/conda/envs/notebook/lib/python3.8/site-packages/geopandas/geodataframe.py:1351: SettingWithCopyWarning: \n",
      "A value is trying to be set on a copy of a slice from a DataFrame.\n",
      "Try using .loc[row_indexer,col_indexer] = value instead\n",
      "\n",
      "See the caveats in the documentation: https://pandas.pydata.org/pandas-docs/stable/user_guide/indexing.html#returning-a-view-versus-a-copy\n",
      "  super().__setitem__(key, value)\n"
     ]
    }
   ],
   "source": [
    "cr_vec_hires['geometry'] = cr_vec_hires['geometry'].set_crs(\"EPSG:4326\")"
   ]
  },
  {
   "cell_type": "code",
   "execution_count": 97,
   "id": "74a76f40-2684-4fc1-8ca5-034dde84247c",
   "metadata": {},
   "outputs": [
    {
     "data": {
      "text/plain": [
       "<AxesSubplot:>"
      ]
     },
     "execution_count": 97,
     "metadata": {},
     "output_type": "execute_result"
    },
    {
     "data": {
      "image/png": "[encoded data removed]",
      "text/plain": [
       "<Figure size 432x288 with 1 Axes>"
      ]
     },
     "metadata": {
      "needs_background": "light"
     },
     "output_type": "display_data"
    }
   ],
   "source": [
    "#Create a bounding box for terrestrial CR\n",
    "\n",
    "from shapely.geometry import Polygon\n",
    "import shapely as sh\n",
    "\n",
    "\n",
    "lon_point_list = [-85.9, -82, -82, -85.9]\n",
    "lat_point_list = [11.3, 11.3, 8, 8]\n",
    "\n",
    "polygon_geom = Polygon(zip(lon_point_list, lat_point_list))\n",
    "crs = 'epsg:4326'\n",
    "bounding_box = gpd.GeoDataFrame(index=[0], crs=crs, geometry=[polygon_geom])\n",
    "bounding_box.plot()"
   ]
  },
  {
   "cell_type": "code",
   "execution_count": 98,
   "id": "ebf426ff-3edd-4126-9e3a-936bf3dcd2af",
   "metadata": {},
   "outputs": [
    {
     "data": {
      "text/plain": [
       "<AxesSubplot:>"
      ]
     },
     "execution_count": 98,
     "metadata": {},
     "output_type": "execute_result"
    },
    {
     "data": {
      "image/png": "[encoded data removed]",
      "text/plain": [
       "<Figure size 432x288 with 1 Axes>"
      ]
     },
     "metadata": {
      "needs_background": "light"
     },
     "output_type": "display_data"
    }
   ],
   "source": [
    "cr_terra = gpd.overlay(cr_vec_hires, bounding_box, how='intersection')\n",
    "# intersecting = cr_polygon.sjoin(b_box_df, how='inner')['savedindex'] #Find the polygons that intersect. Keep savedindex as a series\n",
    "cr_terra.plot()"
   ]
  },
  {
   "cell_type": "markdown",
   "id": "769f9125-71a5-47a8-8bc4-ec2f380b8e4b",
   "metadata": {},
   "source": [
    "Lets try out dask_geopandas"
   ]
  },
  {
   "cell_type": "code",
   "execution_count": 99,
   "id": "677e596e-8a2e-4486-a291-1feab3c5d27e",
   "metadata": {},
   "outputs": [
    {
     "data": {
      "text/plain": [
       "100"
      ]
     },
     "execution_count": 99,
     "metadata": {},
     "output_type": "execute_result"
    }
   ],
   "source": [
    "import dask_geopandas as gpdd\n",
    "cr_species_ddf = gpdd.from_geopandas(cr_species,100)\n",
    "\n",
    "cr_species_ddf.npartitions"
   ]
  },
  {
   "cell_type": "code",
   "execution_count": 100,
   "id": "67f8f106-9760-4360-b810-fba062e13e6e",
   "metadata": {},
   "outputs": [],
   "source": [
    "slice5 = cr_species_ddf.partitions[5].compute()"
   ]
  },
  {
   "cell_type": "code",
   "execution_count": 101,
   "id": "4d7fc207-a065-4b8a-86fc-1c9a3d5af31d",
   "metadata": {},
   "outputs": [
    {
     "data": {
      "text/plain": [
       "<AxesSubplot:>"
      ]
     },
     "execution_count": 101,
     "metadata": {},
     "output_type": "execute_result"
    },
    {
     "data": {
      "image/png": "[encoded data removed]",
      "text/plain": [
       "<Figure size 720x720 with 1 Axes>"
      ]
     },
     "metadata": {
      "needs_background": "light"
     },
     "output_type": "display_data"
    }
   ],
   "source": [
    "slice5.plot(markersize=0.01, figsize=(10,10))"
   ]
  },
  {
   "cell_type": "markdown",
   "id": "d3d6ac96-a7ce-44bb-b371-aa0f2c0e659b",
   "metadata": {},
   "source": [
    "### Clip to terrestrial CR"
   ]
  },
  {
   "cell_type": "code",
   "execution_count": 102,
   "id": "67bc9c4e-a105-457c-aab5-60728b6960bf",
   "metadata": {},
   "outputs": [
    {
     "data": {
      "text/html": [
       "<div><strong>Dask-GeoPandas GeoDataFrame Structure:</strong></div>\n",
       "<div>\n",
       "<style scoped>\n",
       "    .dataframe tbody tr th:only-of-type {\n",
       "        vertical-align: middle;\n",
       "    }\n",
       "\n",
       "    .dataframe tbody tr th {\n",
       "        vertical-align: top;\n",
       "    }\n",
       "\n",
       "    .dataframe thead th {\n",
       "        text-align: right;\n",
       "    }\n",
       "</style>\n",
       "<table border=\"1\" class=\"dataframe\">\n",
       "  <thead>\n",
       "    <tr style=\"text-align: right;\">\n",
       "      <th></th>\n",
       "      <th>index</th>\n",
       "      <th>species</th>\n",
       "      <th>genus</th>\n",
       "      <th>geometry</th>\n",
       "    </tr>\n",
       "    <tr>\n",
       "      <th>npartitions=100</th>\n",
       "      <th></th>\n",
       "      <th></th>\n",
       "      <th></th>\n",
       "      <th></th>\n",
       "    </tr>\n",
       "  </thead>\n",
       "  <tbody>\n",
       "    <tr>\n",
       "      <th>0</th>\n",
       "      <td>int64</td>\n",
       "      <td>object</td>\n",
       "      <td>object</td>\n",
       "      <td>geometry</td>\n",
       "    </tr>\n",
       "    <tr>\n",
       "      <th>173463</th>\n",
       "      <td>...</td>\n",
       "      <td>...</td>\n",
       "      <td>...</td>\n",
       "      <td>...</td>\n",
       "    </tr>\n",
       "    <tr>\n",
       "      <th>...</th>\n",
       "      <td>...</td>\n",
       "      <td>...</td>\n",
       "      <td>...</td>\n",
       "      <td>...</td>\n",
       "    </tr>\n",
       "    <tr>\n",
       "      <th>17172837</th>\n",
       "      <td>...</td>\n",
       "      <td>...</td>\n",
       "      <td>...</td>\n",
       "      <td>...</td>\n",
       "    </tr>\n",
       "    <tr>\n",
       "      <th>17346232</th>\n",
       "      <td>...</td>\n",
       "      <td>...</td>\n",
       "      <td>...</td>\n",
       "      <td>...</td>\n",
       "    </tr>\n",
       "  </tbody>\n",
       "</table>\n",
       "</div>\n",
       "<div>Dask Name: clip, 200 tasks</div>"
      ],
      "text/plain": [
       "Dask GeoDataFrame Structure:\n",
       "                 index species   genus  geometry\n",
       "npartitions=100                                 \n",
       "0                int64  object  object  geometry\n",
       "173463             ...     ...     ...       ...\n",
       "...                ...     ...     ...       ...\n",
       "17172837           ...     ...     ...       ...\n",
       "17346232           ...     ...     ...       ...\n",
       "Dask Name: clip, 200 tasks"
      ]
     },
     "execution_count": 102,
     "metadata": {},
     "output_type": "execute_result"
    }
   ],
   "source": [
    "cr_species_terra_gpdd = gpdd.clip(cr_species_ddf,cr_terra)\n",
    "cr_species_terra_gpdd"
   ]
  },
  {
   "cell_type": "code",
   "execution_count": 106,
   "id": "d8d48c61-bd3e-405f-82ab-3855e8c01471",
   "metadata": {},
   "outputs": [],
   "source": [
    "slice5 = cr_species_terra_gpdd.partitions[5].compute()\n",
    "# slice3.plot(markersize=0.01, figsize=(10,10))"
   ]
  },
  {
   "cell_type": "code",
   "execution_count": 107,
   "id": "798e1140-fcba-4d9e-b365-8ce9999365f6",
   "metadata": {},
   "outputs": [],
   "source": [
    "slice5_clean = slice5.dropna(subset=['species'])"
   ]
  },
  {
   "cell_type": "code",
   "execution_count": 111,
   "id": "b743840b-726b-4ece-a107-6cb2bdb8aa2d",
   "metadata": {},
   "outputs": [
    {
     "data": {
      "text/plain": [
       "(-86.06685815630001, -82.3959787176999, 7.875988569477026, 11.368696482596494)"
      ]
     },
     "execution_count": 111,
     "metadata": {},
     "output_type": "execute_result"
    },
    {
     "data": {
      "image/png": "[encoded data removed]",
      "text/plain": [
       "<Figure size 720x720 with 1 Axes>"
      ]
     },
     "metadata": {
      "needs_background": "light"
     },
     "output_type": "display_data"
    }
   ],
   "source": [
    "ax = slice5_clean.plot(markersize=0.1, figsize=(10,10), column = 'genus', cmap='jet')\n",
    "cr_terra.to_crs(slice5.crs).plot(ax=ax, color='none', edgecolor='black')\n",
    "ax.axis('off')"
   ]
  },
  {
   "cell_type": "code",
   "execution_count": null,
   "id": "25ab1b74-3b0d-4acb-bcf9-6cbfdd60eacc",
   "metadata": {},
   "outputs": [],
   "source": []
  },
  {
   "cell_type": "code",
   "execution_count": null,
   "id": "79707e2e-9219-4d06-bfc4-b9395546f304",
   "metadata": {},
   "outputs": [],
   "source": []
  },
  {
   "cell_type": "code",
   "execution_count": null,
   "id": "092257cc-17bf-40e7-a160-3dea9d785e24",
   "metadata": {},
   "outputs": [],
   "source": []
  },
  {
   "cell_type": "code",
   "execution_count": null,
   "id": "e09eb727-0ba3-4929-8281-166c75624e72",
   "metadata": {},
   "outputs": [],
   "source": []
  },
  {
   "cell_type": "code",
   "execution_count": null,
   "id": "dfc61ae1-cd91-416f-b892-94e388bc9681",
   "metadata": {},
   "outputs": [],
   "source": []
  },
  {
   "cell_type": "code",
   "execution_count": null,
   "id": "99ec433d-b911-4442-a75e-e9f99bc3f1f6",
   "metadata": {},
   "outputs": [],
   "source": []
  }
 ],
 "metadata": {
  "kernelspec": {
   "display_name": "Python 3 (ipykernel)",
   "language": "python",
   "name": "python3"
  },
  "language_info": {
   "codemirror_mode": {
    "name": "ipython",
    "version": 3
   },
   "file_extension": ".py",
   "mimetype": "text/x-python",
   "name": "python",
   "nbconvert_exporter": "python",
   "pygments_lexer": "ipython3",
   "version": "3.8.12"
  }
 },
 "nbformat": 4,
 "nbformat_minor": 5
}
